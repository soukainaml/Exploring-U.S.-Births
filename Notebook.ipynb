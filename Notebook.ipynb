{
 "cells": [
  {
   "cell_type": "markdown",
   "metadata": {
    "collapsed": false
   },
   "source": [
    "# Guided Project: Explore US. Births\n",
    "\n",
    "In this project we will work with a dataset on births in the U.S. compiled by FiveThirtyEight. The dataset contains the following columns:"
   ]
  },
  {
   "cell_type": "code",
   "execution_count": 32,
   "metadata": {
    "collapsed": false,
    "scrolled": true
   },
   "outputs": [
    {
     "name": "stdout",
     "output_type": "stream",
     "text": [
      "<class 'str'>\n"
     ]
    }
   ],
   "source": [
    "data=open(\"US_births_1994-2003_CDC_NCHS.csv\",'r').read()\n",
    "data=data.split(\"\\n\")\n",
    "print (type(data[0]))"
   ]
  },
  {
   "cell_type": "markdown",
   "metadata": {},
   "source": [
    "While a list of strings helps us get a general picture of the dataset, we need to convert it to a more structured format to be able to analyze it. Specifically, we need to convert the dataset into a list of lists where each nested list contains integer values (not strings).We will create and use the function read_csv and make sure we remove the header row."
   ]
  },
  {
   "cell_type": "code",
   "execution_count": 4,
   "metadata": {
    "collapsed": false
   },
   "outputs": [
    {
     "name": "stdout",
     "output_type": "stream",
     "text": [
      "[[1994, 1, 1, 6, 8096], [1994, 1, 2, 7, 7772], [1994, 1, 3, 1, 10142], [1994, 1, 4, 2, 11248], [1994, 1, 5, 3, 11053], [1994, 1, 6, 4, 11406], [1994, 1, 7, 5, 11251], [1994, 1, 8, 6, 8653], [1994, 1, 9, 7, 7910], [1994, 1, 10, 1, 10498], [1994, 1, 11, 2, 11706]]\n"
     ]
    }
   ],
   "source": [
    "def read_csv(file_name):\n",
    "    data=open(file_name,'r').read()\n",
    "    data=data.split(\"\\n\")\n",
    "    string_list=data[1:]\n",
    "    string_fields=[]\n",
    "    final_list=[]\n",
    "    for row in string_list:\n",
    "        int_fields=[]\n",
    "        row=row.split(',')\n",
    "        string_fields.append(row)\n",
    "        for i in [0,1,2,3,4]:\n",
    "            int_fields.append(int(row[i]))\n",
    "        final_list.append(int_fields)\n",
    "    return final_list\n",
    "\n",
    "cdc_list=read_csv(\"US_births_1994-2003_CDC_NCHS.csv\")  \n",
    "\n",
    "print (cdc_list[0:11])\n",
    "        "
   ]
  },
  {
   "cell_type": "markdown",
   "metadata": {},
   "source": [
    "Now that the data is in a more usable format, we can start to analyze it. \n",
    "Let's calculate the total number of births that occured in each month, across all of the years in the dataset."
   ]
  },
  {
   "cell_type": "markdown",
   "metadata": {},
   "source": [
    "## Total number of births per month"
   ]
  },
  {
   "cell_type": "code",
   "execution_count": 8,
   "metadata": {
    "collapsed": false
   },
   "outputs": [
    {
     "name": "stdout",
     "output_type": "stream",
     "text": [
      "We have created a function that calculates the total number of births for each unique month of the year.\n",
      "{1: 3232517, 2: 3018140, 3: 3322069, 4: 3185314, 5: 3350907, 6: 3296530, 7: 3498783, 8: 3525858, 9: 3439698, 10: 3378814, 11: 3171647, 12: 3301860}\n"
     ]
    }
   ],
   "source": [
    "def month_births(list_list):\n",
    "    births_per_month={}\n",
    "    for row in list_list:\n",
    "        month=int(row[1])\n",
    "        births=int(row[4])\n",
    "        if month in births_per_month:\n",
    "            births_per_month[month]=births_per_month[month]+births\n",
    "        else:\n",
    "            births_per_month[month]=births\n",
    "    return births_per_month\n",
    "\n",
    "cdc_month_births=month_births(cdc_list)\n",
    "print (\"We have created a function that calculates the total number of births for each unique month of the year.\")\n",
    "print (cdc_month_births)        \n",
    "        \n",
    "    \n",
    "    "
   ]
  },
  {
   "cell_type": "markdown",
   "metadata": {},
   "source": [
    "## Total number of births per weekday\n"
   ]
  },
  {
   "cell_type": "code",
   "execution_count": 18,
   "metadata": {
    "collapsed": false
   },
   "outputs": [
    {
     "name": "stdout",
     "output_type": "stream",
     "text": [
      "We have created a function that calculates the total number of births for each unique day of the week.\n",
      "{1: 5789166, 2: 6446196, 3: 6322855, 4: 6288429, 5: 6233657, 6: 4562111, 7: 4079723}\n"
     ]
    }
   ],
   "source": [
    "def dow_births(list_list):\n",
    "    births_per_week={}\n",
    "    for row in list_list:\n",
    "        week=row[3]\n",
    "        births=row[4]\n",
    "        if week in births_per_week:\n",
    "            births_per_week[week]=births_per_week[week]+births\n",
    "        else: births_per_week[week]=births\n",
    "    return births_per_week\n",
    "\n",
    "cdc_day_births=dow_births(cdc_list)\n",
    "print (\"We have created a function that calculates the total number of births for each unique day of the week.\")\n",
    "\n",
    "print(cdc_day_births)\n",
    "    "
   ]
  },
  {
   "cell_type": "markdown",
   "metadata": {},
   "source": [
    "## Summary:"
   ]
  },
  {
   "cell_type": "markdown",
   "metadata": {},
   "source": [
    "We notice that there was a lot of similarity between the two functions we just wrote. While we can also create separate functions to calculate the totals for the year and date_of_month columns, it's better to create a single function that works for any column and specify the column we want as a parameter each time we call the function."
   ]
  },
  {
   "cell_type": "code",
   "execution_count": 26,
   "metadata": {
    "collapsed": false
   },
   "outputs": [],
   "source": [
    "def calc_counts(data,column):\n",
    "    births_per_column={}\n",
    "    for row in data:\n",
    "        week=row[column]\n",
    "        births=row[4]\n",
    "        if week in births_per_column:\n",
    "            births_per_column[week]=births_per_column[week]+births\n",
    "        else: births_per_column[week]=births\n",
    "    return births_per_column\n",
    "cdc_year_births=calc_counts(cdc_list,0)\n",
    "cdc_month_births=calc_counts(cdc_list,1)\n",
    "cdc_dom_births=calc_counts(cdc_list,2)\n",
    "cdc_dow_births=calc_counts(cdc_list,3)"
   ]
  },
  {
   "cell_type": "code",
   "execution_count": 27,
   "metadata": {
    "collapsed": false
   },
   "outputs": [
    {
     "name": "stdout",
     "output_type": "stream",
     "text": [
      "Births per Year\n"
     ]
    },
    {
     "data": {
      "text/plain": [
       "{1994: 3952767,\n",
       " 1995: 3899589,\n",
       " 1996: 3891494,\n",
       " 1997: 3880894,\n",
       " 1998: 3941553,\n",
       " 1999: 3959417,\n",
       " 2000: 4058814,\n",
       " 2001: 4025933,\n",
       " 2002: 4021726,\n",
       " 2003: 4089950}"
      ]
     },
     "execution_count": 27,
     "metadata": {},
     "output_type": "execute_result"
    }
   ],
   "source": [
    "print (\"Births per Year\")\n",
    "cdc_year_births\n"
   ]
  },
  {
   "cell_type": "code",
   "execution_count": 28,
   "metadata": {
    "collapsed": false
   },
   "outputs": [
    {
     "name": "stdout",
     "output_type": "stream",
     "text": [
      "Births per Month\n"
     ]
    },
    {
     "data": {
      "text/plain": [
       "{1: 3232517,\n",
       " 2: 3018140,\n",
       " 3: 3322069,\n",
       " 4: 3185314,\n",
       " 5: 3350907,\n",
       " 6: 3296530,\n",
       " 7: 3498783,\n",
       " 8: 3525858,\n",
       " 9: 3439698,\n",
       " 10: 3378814,\n",
       " 11: 3171647,\n",
       " 12: 3301860}"
      ]
     },
     "execution_count": 28,
     "metadata": {},
     "output_type": "execute_result"
    }
   ],
   "source": [
    "print (\"Births per Month\")\n",
    "cdc_month_births\n"
   ]
  },
  {
   "cell_type": "code",
   "execution_count": 29,
   "metadata": {
    "collapsed": false
   },
   "outputs": [
    {
     "name": "stdout",
     "output_type": "stream",
     "text": [
      "Births per Day of Month\n"
     ]
    },
    {
     "data": {
      "text/plain": [
       "{1: 1276557,\n",
       " 2: 1288739,\n",
       " 3: 1304499,\n",
       " 4: 1288154,\n",
       " 5: 1299953,\n",
       " 6: 1304474,\n",
       " 7: 1310459,\n",
       " 8: 1312297,\n",
       " 9: 1303292,\n",
       " 10: 1320764,\n",
       " 11: 1314361,\n",
       " 12: 1318437,\n",
       " 13: 1277684,\n",
       " 14: 1320153,\n",
       " 15: 1319171,\n",
       " 16: 1315192,\n",
       " 17: 1324953,\n",
       " 18: 1326855,\n",
       " 19: 1318727,\n",
       " 20: 1324821,\n",
       " 21: 1322897,\n",
       " 22: 1317381,\n",
       " 23: 1293290,\n",
       " 24: 1288083,\n",
       " 25: 1272116,\n",
       " 26: 1284796,\n",
       " 27: 1294395,\n",
       " 28: 1307685,\n",
       " 29: 1223161,\n",
       " 30: 1202095,\n",
       " 31: 746696}"
      ]
     },
     "execution_count": 29,
     "metadata": {},
     "output_type": "execute_result"
    }
   ],
   "source": [
    "print (\"Births per Day of Month\")\n",
    "cdc_dom_births\n"
   ]
  },
  {
   "cell_type": "code",
   "execution_count": 30,
   "metadata": {
    "collapsed": false
   },
   "outputs": [
    {
     "name": "stdout",
     "output_type": "stream",
     "text": [
      "Births per Day of Week\n"
     ]
    },
    {
     "data": {
      "text/plain": [
       "{1: 5789166,\n",
       " 2: 6446196,\n",
       " 3: 6322855,\n",
       " 4: 6288429,\n",
       " 5: 6233657,\n",
       " 6: 4562111,\n",
       " 7: 4079723}"
      ]
     },
     "execution_count": 30,
     "metadata": {},
     "output_type": "execute_result"
    }
   ],
   "source": [
    "print (\"Births per Day of Week\")\n",
    "cdc_dow_births"
   ]
  },
  {
   "cell_type": "markdown",
   "metadata": {
    "collapsed": true
   },
   "source": [
    "## Suggestions for next steps:\n",
    "-  Write a function that can calculate the min and max values for any dictionary that's passed in.\n",
    "-  Write a function that extracts the same values across years and calculates the differences between consecutive values to show if number of births is increasing or decreasing.For example, how did the number of births on Saturday change each year between 1994 and 2003?\n",
    "-  Find a way to combine the CDC data with the SSA data, which you can find here. Specifically, brainstorm ways to deal with the overlapping time periods in the datasets."
   ]
  },
  {
   "cell_type": "code",
   "execution_count": null,
   "metadata": {
    "collapsed": true
   },
   "outputs": [],
   "source": []
  },
  {
   "cell_type": "code",
   "execution_count": null,
   "metadata": {
    "collapsed": true
   },
   "outputs": [],
   "source": []
  }
 ],
 "metadata": {
  "anaconda-cloud": {},
  "kernelspec": {
   "display_name": "Python 3",
   "language": "python",
   "name": "python3"
  },
  "language_info": {
   "codemirror_mode": {
    "name": "ipython",
    "version": 3
   },
   "file_extension": ".py",
   "mimetype": "text/x-python",
   "name": "python",
   "nbconvert_exporter": "python",
   "pygments_lexer": "ipython3",
   "version": "3.4.3"
  }
 },
 "nbformat": 4,
 "nbformat_minor": 1
}
